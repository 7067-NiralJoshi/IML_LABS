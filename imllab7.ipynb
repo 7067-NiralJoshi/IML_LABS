{
 "cells": [
  {
   "cell_type": "code",
   "execution_count": 1,
   "id": "6a3c0b3c",
   "metadata": {
    "_cell_guid": "b1076dfc-b9ad-4769-8c92-a6c4dae69d19",
    "_uuid": "8f2839f25d086af736a60e9eeb907d3b93b6e0e5",
    "execution": {
     "iopub.execute_input": "2023-11-07T11:17:02.175425Z",
     "iopub.status.busy": "2023-11-07T11:17:02.174506Z",
     "iopub.status.idle": "2023-11-07T11:17:02.599049Z",
     "shell.execute_reply": "2023-11-07T11:17:02.597885Z"
    },
    "papermill": {
     "duration": 0.433271,
     "end_time": "2023-11-07T11:17:02.602121",
     "exception": false,
     "start_time": "2023-11-07T11:17:02.168850",
     "status": "completed"
    },
    "tags": []
   },
   "outputs": [],
   "source": [
    "# This Python 3 environment comes with many helpful analytics libraries installed\n",
    "# It is defined by the kaggle/python Docker image: https://github.com/kaggle/docker-python\n",
    "# For example, here's several helpful packages to load\n",
    "\n",
    "import numpy as np # linear algebra\n",
    "import pandas as pd # data processing, CSV file I/O (e.g. pd.read_csv)\n",
    "\n",
    "# Input data files are available in the read-only \"../input/\" directory\n",
    "# For example, running this (by clicking run or pressing Shift+Enter) will list all files under the input directory\n",
    "\n",
    "import os\n",
    "for dirname, _, filenames in os.walk('/kaggle/input'):\n",
    "    for filename in filenames:\n",
    "        print(os.path.join(dirname, filename))\n",
    "\n",
    "# You can write up to 20GB to the current directory (/kaggle/working/) that gets preserved as output when you create a version using \"Save & Run All\" \n",
    "# You can also write temporary files to /kaggle/temp/, but they won't be saved outside of the current session"
   ]
  },
  {
   "cell_type": "code",
   "execution_count": 2,
   "id": "aaabb881",
   "metadata": {
    "execution": {
     "iopub.execute_input": "2023-11-07T11:17:02.611835Z",
     "iopub.status.busy": "2023-11-07T11:17:02.611266Z",
     "iopub.status.idle": "2023-11-07T11:17:02.630102Z",
     "shell.execute_reply": "2023-11-07T11:17:02.628933Z"
    },
    "papermill": {
     "duration": 0.027575,
     "end_time": "2023-11-07T11:17:02.632744",
     "exception": false,
     "start_time": "2023-11-07T11:17:02.605169",
     "status": "completed"
    },
    "tags": []
   },
   "outputs": [
    {
     "name": "stdout",
     "output_type": "stream",
     "text": [
      "   Numbers   Flowers\n",
      "0        1  Hibiscus\n",
      "1        2     Lotus\n",
      "2        3      Lily\n"
     ]
    }
   ],
   "source": [
    "'''to create a dataframe from a dictionary and display it \n",
    "Name:Nirali joshi\n",
    "Enrolment no.:216270307067'''\n",
    "df = pd.DataFrame({'Numbers': [1, 2, 3], 'Flowers': ['Hibiscus', 'Lotus', 'Lily']})\n",
    "print(df)\n"
   ]
  },
  {
   "cell_type": "code",
   "execution_count": 3,
   "id": "8686a742",
   "metadata": {
    "execution": {
     "iopub.execute_input": "2023-11-07T11:17:02.641209Z",
     "iopub.status.busy": "2023-11-07T11:17:02.640797Z",
     "iopub.status.idle": "2023-11-07T11:17:02.659756Z",
     "shell.execute_reply": "2023-11-07T11:17:02.658352Z"
    },
    "papermill": {
     "duration": 0.026999,
     "end_time": "2023-11-07T11:17:02.663019",
     "exception": false,
     "start_time": "2023-11-07T11:17:02.636020",
     "status": "completed"
    },
    "tags": []
   },
   "outputs": [
    {
     "name": "stdout",
     "output_type": "stream",
     "text": [
      "  Product_Name  Price  Quantity_In_Stock\n",
      "4       Eraser     15                 75\n",
      "3  Highlighter     10                150\n",
      "2     Notebook     20                 50\n",
      "1       Pencil     30                200\n",
      "0    Scrapbook     50               1000\n"
     ]
    }
   ],
   "source": [
    "'''to sort the DataFrame first by 'name' in ascending order\n",
    "Name:Nirali Joshi\n",
    "Enrollment:216270307067'''\n",
    "import pandas as pd\n",
    "\n",
    "data = pd.DataFrame({\n",
    "    'Product_Name': ['Scrapbook', 'Pencil', 'Notebook', 'Highlighter', 'Eraser'],\n",
    "    'Price': [50, 30, 20, 10, 15],\n",
    "    'Quantity_In_Stock': [1000, 200, 50, 150, 75]\n",
    "})\n",
    "\n",
    "df1 = data.sort_values(by='Product_Name')\n",
    "print(df1)\n",
    "\n"
   ]
  },
  {
   "cell_type": "code",
   "execution_count": 4,
   "id": "a23041aa",
   "metadata": {
    "execution": {
     "iopub.execute_input": "2023-11-07T11:17:02.671394Z",
     "iopub.status.busy": "2023-11-07T11:17:02.670918Z",
     "iopub.status.idle": "2023-11-07T11:17:02.692769Z",
     "shell.execute_reply": "2023-11-07T11:17:02.691438Z"
    },
    "papermill": {
     "duration": 0.029629,
     "end_time": "2023-11-07T11:17:02.695952",
     "exception": false,
     "start_time": "2023-11-07T11:17:02.666323",
     "status": "completed"
    },
    "tags": []
   },
   "outputs": [
    {
     "name": "stdout",
     "output_type": "stream",
     "text": [
      "Original DataFrame:   Product_Name  Price  Quantity_In_Stock     Category\n",
      "0          Pen    1.0                100      Writing\n",
      "1       Pencil    0.5                200      Writing\n",
      "2     Notebook    2.5                 50        Paper\n",
      "3       Eraser    0.3                150       Eraser\n",
      "4  Highlighter    1.2                 75  Highlighter\n",
      "\n",
      "DataFrame after deleting 'Category' column:\n",
      "  Product_Name  Price  Quantity_In_Stock\n",
      "0          Pen    1.0                100\n",
      "1       Pencil    0.5                200\n",
      "2     Notebook    2.5                 50\n",
      "3       Eraser    0.3                150\n",
      "4  Highlighter    1.2                 75\n"
     ]
    }
   ],
   "source": [
    "'''Write a Pandas program to implement following operation\n",
    "    to delete the one specific column from the DataFrame\n",
    "    Name:Nirali joshi\n",
    "    Enrolment no.:216270307067'''\n",
    "df= pd.DataFrame({\n",
    "    'Product_Name': ['Pen', 'Pencil', 'Notebook', 'Eraser', 'Highlighter'],\n",
    "    'Price': [1.0, 0.5, 2.5, 0.3, 1.2],\n",
    "    'Quantity_In_Stock': [100, 200, 50, 150, 75],\n",
    "    'Category': ['Writing', 'Writing', 'Paper', 'Eraser', 'Highlighter']\n",
    "})\n",
    "print(\"Original DataFrame:\",df)\n",
    "\n",
    "# Delete the 'Category' column\n",
    "df_del = df.drop('Category', axis=1)\n",
    "\n",
    "# Display the modified DataFrame\n",
    "print(\"\\nDataFrame after deleting 'Category' column:\")\n",
    "print(df_del)"
   ]
  },
  {
   "cell_type": "code",
   "execution_count": 5,
   "id": "db70bca4",
   "metadata": {
    "execution": {
     "iopub.execute_input": "2023-11-07T11:17:02.704232Z",
     "iopub.status.busy": "2023-11-07T11:17:02.703841Z",
     "iopub.status.idle": "2023-11-07T11:17:02.721761Z",
     "shell.execute_reply": "2023-11-07T11:17:02.720847Z"
    },
    "papermill": {
     "duration": 0.024936,
     "end_time": "2023-11-07T11:17:02.724175",
     "exception": false,
     "start_time": "2023-11-07T11:17:02.699239",
     "status": "completed"
    },
    "tags": []
   },
   "outputs": [
    {
     "name": "stdout",
     "output_type": "stream",
     "text": [
      "  Flower_Name   Color  Price Blossom_Season Availability\n",
      "0        Rose     Red   2.50         Spring   Year-round\n",
      "1       Tulip    Pink   1.00         Spring       Spring\n",
      "2       Daisy   White   0.75         Spring   Year-round\n",
      "3        Lily   White   1.20         Summer       Summer\n",
      "4   Sunflower  Yellow   1.50         Summer       Summer\n"
     ]
    }
   ],
   "source": [
    "''' to write a DataFrame to CSV file using tab separator\n",
    "Name:Nirali joshi\n",
    "Enrolment no.:216270307067\n",
    "'''\n",
    "\n",
    "df= pd.DataFrame({\n",
    "    'Flower_Name': ['Rose', 'Tulip', 'Daisy', 'Lily', 'Sunflower'],\n",
    "    'Color': ['Red', 'Pink', 'White', 'White', 'Yellow'],\n",
    "    'Price': [2.5, 1.0, 0.75, 1.2, 1.5],\n",
    "    'Blossom_Season': ['Spring', 'Spring', 'Spring', 'Summer', 'Summer'],\n",
    "    'Availability': ['Year-round', 'Spring', 'Year-round', 'Summer', 'Summer']\n",
    "})\n",
    "\n",
    "df.to_csv('/kaggle/working/dataset.csv', index=False, sep=\"\\t\")\n",
    "print(df)"
   ]
  }
 ],
 "metadata": {
  "kernelspec": {
   "display_name": "Python 3",
   "language": "python",
   "name": "python3"
  },
  "language_info": {
   "codemirror_mode": {
    "name": "ipython",
    "version": 3
   },
   "file_extension": ".py",
   "mimetype": "text/x-python",
   "name": "python",
   "nbconvert_exporter": "python",
   "pygments_lexer": "ipython3",
   "version": "3.10.12"
  },
  "papermill": {
   "default_parameters": {},
   "duration": 4.900164,
   "end_time": "2023-11-07T11:17:03.250042",
   "environment_variables": {},
   "exception": null,
   "input_path": "__notebook__.ipynb",
   "output_path": "__notebook__.ipynb",
   "parameters": {},
   "start_time": "2023-11-07T11:16:58.349878",
   "version": "2.4.0"
  }
 },
 "nbformat": 4,
 "nbformat_minor": 5
}
