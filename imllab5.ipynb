{
 "cells": [
  {
   "cell_type": "markdown",
   "id": "37ac4795",
   "metadata": {
    "papermill": {
     "duration": 0.00284,
     "end_time": "2023-11-07T11:12:57.613680",
     "exception": false,
     "start_time": "2023-11-07T11:12:57.610840",
     "status": "completed"
    },
    "tags": []
   },
   "source": [
    "#### Practical 5"
   ]
  },
  {
   "cell_type": "markdown",
   "id": "7799e40d",
   "metadata": {
    "papermill": {
     "duration": 0.001526,
     "end_time": "2023-11-07T11:12:57.617167",
     "exception": false,
     "start_time": "2023-11-07T11:12:57.615641",
     "status": "completed"
    },
    "tags": []
   },
   "source": []
  },
  {
   "cell_type": "code",
   "execution_count": 1,
   "id": "21d55f80",
   "metadata": {
    "_cell_guid": "b1076dfc-b9ad-4769-8c92-a6c4dae69d19",
    "_uuid": "8f2839f25d086af736a60e9eeb907d3b93b6e0e5",
    "execution": {
     "iopub.execute_input": "2023-11-07T11:12:57.624900Z",
     "iopub.status.busy": "2023-11-07T11:12:57.624289Z",
     "iopub.status.idle": "2023-11-07T11:12:57.929501Z",
     "shell.execute_reply": "2023-11-07T11:12:57.928213Z"
    },
    "papermill": {
     "duration": 0.31082,
     "end_time": "2023-11-07T11:12:57.931859",
     "exception": false,
     "start_time": "2023-11-07T11:12:57.621039",
     "status": "completed"
    },
    "tags": []
   },
   "outputs": [],
   "source": [
    "# This Python 3 environment comes with many helpful analytics libraries installed\n",
    "# It is defined by the kaggle/python Docker image: https://github.com/kaggle/docker-python\n",
    "# For example, here's several helpful packages to load\n",
    "\n",
    "import numpy as np # linear algebra\n",
    "import pandas as pd # data processing, CSV file I/O (e.g. pd.read_csv)\n",
    "\n",
    "# Input data files are available in the read-only \"../input/\" directory\n",
    "# For example, running this (by clicking run or pressing Shift+Enter) will list all files under the input directory\n",
    "\n",
    "import os\n",
    "for dirname, _, filenames in os.walk('/kaggle/input'):\n",
    "    for filename in filenames:\n",
    "        print(os.path.join(dirname, filename))\n",
    "\n",
    "# You can write up to 20GB to the current directory (/kaggle/working/) that gets preserved as output when you create a version using \"Save & Run All\" \n",
    "# You can also write temporary files to /kaggle/temp/, but they won't be saved outside of the current session"
   ]
  },
  {
   "cell_type": "code",
   "execution_count": 2,
   "id": "96e05989",
   "metadata": {
    "execution": {
     "iopub.execute_input": "2023-11-07T11:12:57.937426Z",
     "iopub.status.busy": "2023-11-07T11:12:57.937046Z",
     "iopub.status.idle": "2023-11-07T11:12:57.945598Z",
     "shell.execute_reply": "2023-11-07T11:12:57.944577Z"
    },
    "papermill": {
     "duration": 0.013749,
     "end_time": "2023-11-07T11:12:57.947719",
     "exception": false,
     "start_time": "2023-11-07T11:12:57.933970",
     "status": "completed"
    },
    "tags": []
   },
   "outputs": [
    {
     "name": "stdout",
     "output_type": "stream",
     "text": [
      "Flattened Array: [1 2 3 4 5 6 7 8 9]\n",
      "Maximum Value: 9\n",
      "Minimum Value: 1\n"
     ]
    }
   ],
   "source": [
    "'''Write a NumPy program to implement following operation\n",
    "     1.to find the maximum and minimum value of a given flattened array\n",
    "\n",
    "Name:JOSHI NIRALI KAILASH\n",
    "Enrolment no.216270307067\n",
    "\n",
    "'''\n",
    "# Create a sample 2D array\n",
    "array_2d = np.array([[1, 2, 3],\n",
    "                     [4, 5, 6],\n",
    "                     [7, 8, 9]])\n",
    "\n",
    "# Flatten the 2D array to a 1D array\n",
    "flattened_array = array_2d.flatten()\n",
    "\n",
    "# Find the maximum and minimum values in the flattened array\n",
    "max_value = np.max(flattened_array)\n",
    "min_value = np.min(flattened_array)\n",
    "\n",
    "# Print the results\n",
    "print(\"Flattened Array:\", flattened_array)\n",
    "print(\"Maximum Value:\", max_value)\n",
    "print(\"Minimum Value:\", min_value)"
   ]
  },
  {
   "cell_type": "code",
   "execution_count": 3,
   "id": "fac0dd9b",
   "metadata": {
    "execution": {
     "iopub.execute_input": "2023-11-07T11:12:57.953476Z",
     "iopub.status.busy": "2023-11-07T11:12:57.952498Z",
     "iopub.status.idle": "2023-11-07T11:12:57.959573Z",
     "shell.execute_reply": "2023-11-07T11:12:57.958927Z"
    },
    "papermill": {
     "duration": 0.011548,
     "end_time": "2023-11-07T11:12:57.961349",
     "exception": false,
     "start_time": "2023-11-07T11:12:57.949801",
     "status": "completed"
    },
    "tags": []
   },
   "outputs": [
    {
     "name": "stdout",
     "output_type": "stream",
     "text": [
      "[[ 0  1  2]\n",
      " [ 3  4  5]\n",
      " [ 6  7  8]\n",
      " [ 9 10 11]\n",
      " [12 13 14]]\n",
      "Mean of a along axis=1:  [ 1.  4.  7. 10. 13.]\n",
      "Standard Deviation along axis=1: \n",
      " [0.81649658 0.81649658 0.81649658 0.81649658 0.81649658]\n",
      "Variance along axis=1: \n",
      " [1. 1. 1. 1. 1.]\n"
     ]
    }
   ],
   "source": [
    " '''Write a NumPy program to implement following operation\n",
    "     2.to compute the mean, standard deviation, and variance of a given \n",
    "         array along the second axis\n",
    "\n",
    "Name:JOSHI NIRALI KAILASH\n",
    "Enrolment no.216270307067\n",
    "\n",
    "'''\n",
    "\n",
    "a = np.arange(15).reshape(5,3)\n",
    "\n",
    "print(a)\n",
    "print(\"Mean of a along axis=1: \", np.mean(a, axis=1))\n",
    "\n",
    "print(\"Standard Deviation along axis=1: \\n\", np.std(a, axis=1))\n",
    "\n",
    "print(\"Variance along axis=1: \\n\", np.rint(np.var(a, axis=1)))"
   ]
  },
  {
   "cell_type": "code",
   "execution_count": null,
   "id": "dcb0925d",
   "metadata": {
    "papermill": {
     "duration": 0.00181,
     "end_time": "2023-11-07T11:12:57.965276",
     "exception": false,
     "start_time": "2023-11-07T11:12:57.963466",
     "status": "completed"
    },
    "tags": []
   },
   "outputs": [],
   "source": []
  }
 ],
 "metadata": {
  "kernelspec": {
   "display_name": "Python 3",
   "language": "python",
   "name": "python3"
  },
  "language_info": {
   "codemirror_mode": {
    "name": "ipython",
    "version": 3
   },
   "file_extension": ".py",
   "mimetype": "text/x-python",
   "name": "python",
   "nbconvert_exporter": "python",
   "pygments_lexer": "ipython3",
   "version": "3.10.12"
  },
  "papermill": {
   "default_parameters": {},
   "duration": 3.517793,
   "end_time": "2023-11-07T11:12:58.385040",
   "environment_variables": {},
   "exception": null,
   "input_path": "__notebook__.ipynb",
   "output_path": "__notebook__.ipynb",
   "parameters": {},
   "start_time": "2023-11-07T11:12:54.867247",
   "version": "2.4.0"
  }
 },
 "nbformat": 4,
 "nbformat_minor": 5
}
