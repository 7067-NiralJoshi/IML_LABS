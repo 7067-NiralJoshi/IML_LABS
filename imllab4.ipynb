{
 "cells": [
  {
   "cell_type": "markdown",
   "id": "c4b955a2",
   "metadata": {
    "papermill": {
     "duration": 0.002879,
     "end_time": "2023-11-07T11:11:17.123308",
     "exception": false,
     "start_time": "2023-11-07T11:11:17.120429",
     "status": "completed"
    },
    "tags": []
   },
   "source": [
    "* **Practical 4**"
   ]
  },
  {
   "cell_type": "markdown",
   "id": "ffea5ef7",
   "metadata": {
    "papermill": {
     "duration": 0.004201,
     "end_time": "2023-11-07T11:11:17.129985",
     "exception": false,
     "start_time": "2023-11-07T11:11:17.125784",
     "status": "completed"
    },
    "tags": []
   },
   "source": [
    "#### "
   ]
  },
  {
   "cell_type": "code",
   "execution_count": 1,
   "id": "378148e2",
   "metadata": {
    "_cell_guid": "b1076dfc-b9ad-4769-8c92-a6c4dae69d19",
    "_uuid": "8f2839f25d086af736a60e9eeb907d3b93b6e0e5",
    "execution": {
     "iopub.execute_input": "2023-11-07T11:11:17.136416Z",
     "iopub.status.busy": "2023-11-07T11:11:17.135873Z",
     "iopub.status.idle": "2023-11-07T11:11:17.439502Z",
     "shell.execute_reply": "2023-11-07T11:11:17.438424Z"
    },
    "papermill": {
     "duration": 0.309712,
     "end_time": "2023-11-07T11:11:17.442000",
     "exception": false,
     "start_time": "2023-11-07T11:11:17.132288",
     "status": "completed"
    },
    "tags": []
   },
   "outputs": [],
   "source": [
    "# This Python 3 environment comes with many helpful analytics libraries installed\n",
    "# It is defined by the kaggle/python Docker image: https://github.com/kaggle/docker-python\n",
    "# For example, here's several helpful packages to load\n",
    "\n",
    "import numpy as np # linear algebra\n",
    "import pandas as pd # data processing, CSV file I/O (e.g. pd.read_csv)\n",
    "\n",
    "# Input data files are available in the read-only \"../input/\" directory\n",
    "# For example, running this (by clicking run or pressing Shift+Enter) will list all files under the input directory\n",
    "\n",
    "import os\n",
    "for dirname, _, filenames in os.walk('/kaggle/input'):\n",
    "    for filename in filenames:\n",
    "        print(os.path.join(dirname, filename))\n",
    "\n",
    "# You can write up to 20GB to the current directory (/kaggle/working/) that gets preserved as output when you create a version using \"Save & Run All\" \n",
    "# You can also write temporary files to /kaggle/temp/, but they won't be saved outside of the current session"
   ]
  },
  {
   "cell_type": "code",
   "execution_count": 2,
   "id": "16dda3bc",
   "metadata": {
    "execution": {
     "iopub.execute_input": "2023-11-07T11:11:17.448353Z",
     "iopub.status.busy": "2023-11-07T11:11:17.447876Z",
     "iopub.status.idle": "2023-11-07T11:11:17.463153Z",
     "shell.execute_reply": "2023-11-07T11:11:17.461928Z"
    },
    "papermill": {
     "duration": 0.021668,
     "end_time": "2023-11-07T11:11:17.466134",
     "exception": false,
     "start_time": "2023-11-07T11:11:17.444466",
     "status": "completed"
    },
    "tags": []
   },
   "outputs": [
    {
     "name": "stdout",
     "output_type": "stream",
     "text": [
      "x = [0 1 2 3 4 5 6 7 8 9]\n",
      "\n",
      "x + 5 = [ 5  6  7  8  9 10 11 12 13 14]\n",
      "x - 5 = [-5 -4 -3 -2 -1  0  1  2  3  4]\n",
      "x * 2 = [ 0  2  4  6  8 10 12 14 16 18]\n",
      "x / 2 = [0.  0.5 1.  1.5 2.  2.5 3.  3.5 4.  4.5]\n",
      "x // 2 = [0 0 1 1 2 2 3 3 4 4]\n",
      "\n",
      "Using Ufuncs\n",
      "Addition: [ 2  3  4  5  6  7  8  9 10 11]\n",
      "\n",
      "Subtraction: [-5 -4 -3 -2 -1  0  1  2  3  4]\n",
      "\n",
      "Multiplication: [ 0  3  6  9 12 15 18 21 24 27]\n",
      "\n",
      "Division: [0.  0.5 1.  1.5 2.  2.5 3.  3.5 4.  4.5]\n",
      "\n",
      "np.floor_divide(x, 2): [0 0 1 1 2 2 3 3 4 4]\n",
      "\n",
      "Used broadcasting\n",
      "Addition: [[1 2 3]\n",
      " [2 3 4]\n",
      " [3 4 5]]\n",
      "Subtraction: [[-1 -2 -3]\n",
      " [ 0 -1 -2]\n",
      " [ 1  0 -1]]\n",
      "Multiplication: [[0 0 0]\n",
      " [1 2 3]\n",
      " [2 4 6]]\n",
      "Division: [[0.         0.         0.        ]\n",
      " [1.         0.5        0.33333333]\n",
      " [2.         1.         0.66666667]]\n"
     ]
    }
   ],
   "source": [
    "# Write a NumPy program to implement following operation:\n",
    "    # 1.to add, subtract, multiply, divide arguments element-wise.\n",
    "\n",
    "# Name:Joshi Nirali Kailash\n",
    "#Enrolment no.216270307067\n",
    "\n",
    "import numpy as np\n",
    "\n",
    "x=np.arange(10)\n",
    "print(\"x =\", x)\n",
    "# using natve operators\n",
    "print(\"\\nx + 5 =\", x + 5)\n",
    "print(\"x - 5 =\", x - 5)\n",
    "print(\"x * 2 =\", x * 2)\n",
    "print(\"x / 2 =\", x / 2)\n",
    "print(\"x // 2 =\", x // 2)    # floor division\n",
    "\n",
    "# using builtin functions\n",
    "print(\"\\nUsing Ufuncs\")\n",
    "print(\"Addition:\", np.add(x, 2))                    # Addition \n",
    "print(\"\\nSubtraction:\", np.subtract(x, 5))            # Subtraction \n",
    "print(\"\\nMultiplication:\", np.multiply(x, 3))          # Multiplication \n",
    "print(\"\\nDivision:\", np.divide(x, 2))              # Division \n",
    "print(\"\\nnp.floor_divide(x, 2):\", np.floor_divide(x, 2))   # Floor division\n",
    "\n",
    "#using broadcasting\n",
    "print(\"\\nUsed broadcasting\")\n",
    "a = np.arange(3).reshape((3,1))\n",
    "b = np.arange(1,4)\n",
    "print(\"Addition:\",a+b)\n",
    "print(\"Subtraction:\",a-b)\n",
    "print(\"Multiplication:\",a*b)\n",
    "print(\"Division:\",a/b)\n"
   ]
  },
  {
   "cell_type": "code",
   "execution_count": 3,
   "id": "3aa1cd1d",
   "metadata": {
    "execution": {
     "iopub.execute_input": "2023-11-07T11:11:17.472564Z",
     "iopub.status.busy": "2023-11-07T11:11:17.472267Z",
     "iopub.status.idle": "2023-11-07T11:11:17.479691Z",
     "shell.execute_reply": "2023-11-07T11:11:17.478079Z"
    },
    "papermill": {
     "duration": 0.013746,
     "end_time": "2023-11-07T11:11:17.482398",
     "exception": false,
     "start_time": "2023-11-07T11:11:17.468652",
     "status": "completed"
    },
    "tags": []
   },
   "outputs": [
    {
     "name": "stdout",
     "output_type": "stream",
     "text": [
      "Integer: [0. 2. 2. 4. 5. 5. 6. 8.]\n"
     ]
    }
   ],
   "source": [
    "''' Write a NumPy program to implement following operation:\n",
    "         2.to round elements of the array to the nearest integer\n",
    "\n",
    " Name:Joshi Nirali Kailash\n",
    "Enrolment no.216270307067\n",
    "'''\n",
    "import numpy as np\n",
    "\n",
    "\n",
    "np.round([.5, 1.5, 3.5, 7.5, 4.6, 5.4 ,4.6, 6.8]) \n",
    "np.around([.5, 1.5, 2.5, 3.5, 4.6, 5.4, 6.5, 7.8])            # equivalent to np.round()\n",
    "print(\"Integer:\",np.rint([.5, 1.5, 2.5, 3.5, 4.6, 5.4, 6.5, 7.8]))"
   ]
  },
  {
   "cell_type": "code",
   "execution_count": 4,
   "id": "30acedfe",
   "metadata": {
    "execution": {
     "iopub.execute_input": "2023-11-07T11:11:17.489113Z",
     "iopub.status.busy": "2023-11-07T11:11:17.488758Z",
     "iopub.status.idle": "2023-11-07T11:11:17.496959Z",
     "shell.execute_reply": "2023-11-07T11:11:17.495653Z"
    },
    "papermill": {
     "duration": 0.014089,
     "end_time": "2023-11-07T11:11:17.499216",
     "exception": false,
     "start_time": "2023-11-07T11:11:17.485127",
     "status": "completed"
    },
    "tags": []
   },
   "outputs": [
    {
     "name": "stdout",
     "output_type": "stream",
     "text": [
      "[[0 1 2 3 4]\n",
      " [5 6 7 8 9]]\n",
      "\n",
      "Mean of a:  4.5\n",
      "Mean of a along axis=0:  [2.5 3.5 4.5 5.5 6.5]\n",
      "Mean of a along axis=1:  [2. 7.]\n"
     ]
    }
   ],
   "source": [
    "'''Write a NumPy program to implement following operation:\n",
    "        3.to calculate mean across dimension, in a 2D numpy array\n",
    "\n",
    " Name:Joshi Nirali Kailash\n",
    " Enrolment no.216270307067\n",
    "'''\n",
    "import numpy as np\n",
    "\n",
    "arr=np.arange(10) #creating array\n",
    "\n",
    "reshaped_arr=arr.reshape(2,5) #Reshaping 1D array\n",
    "print(reshaped_arr)\n",
    "\n",
    "print(\"\\nMean of a: \", np.mean(reshaped_arr))\n",
    "print(\"Mean of a along axis=0: \", np.mean(reshaped_arr, axis=0))\n",
    "print(\"Mean of a along axis=1: \", np.mean(reshaped_arr, axis=1))"
   ]
  },
  {
   "cell_type": "code",
   "execution_count": 5,
   "id": "dd7c83f5",
   "metadata": {
    "execution": {
     "iopub.execute_input": "2023-11-07T11:11:17.506509Z",
     "iopub.status.busy": "2023-11-07T11:11:17.506118Z",
     "iopub.status.idle": "2023-11-07T11:11:17.514143Z",
     "shell.execute_reply": "2023-11-07T11:11:17.512701Z"
    },
    "papermill": {
     "duration": 0.014259,
     "end_time": "2023-11-07T11:11:17.516283",
     "exception": false,
     "start_time": "2023-11-07T11:11:17.502024",
     "status": "completed"
    },
    "tags": []
   },
   "outputs": [
    {
     "name": "stdout",
     "output_type": "stream",
     "text": [
      "Element Difference in 2D array: [[-12   3   2]\n",
      " [ 12   7 -11]]\n"
     ]
    }
   ],
   "source": [
    "'''Write a NumPy program to implement following operation:\n",
    "        4.to calculate the difference between neighboring elements, \n",
    "           element wise of a given array\n",
    "I\n",
    "\n",
    " Name:Joshi Nirali Kailash\n",
    " Enrolment no.216270307067\n",
    "'''\n",
    "import numpy as np\n",
    "\n",
    "arr1= np.array([[19, 7, 10, 12], [0, 12, 19, 8]])\n",
    "print(\"Element Difference in 2D array:\",np.diff(arr1))"
   ]
  },
  {
   "cell_type": "code",
   "execution_count": null,
   "id": "b3b41e11",
   "metadata": {
    "papermill": {
     "duration": 0.002359,
     "end_time": "2023-11-07T11:11:17.521469",
     "exception": false,
     "start_time": "2023-11-07T11:11:17.519110",
     "status": "completed"
    },
    "tags": []
   },
   "outputs": [],
   "source": []
  }
 ],
 "metadata": {
  "kernelspec": {
   "display_name": "Python 3",
   "language": "python",
   "name": "python3"
  },
  "language_info": {
   "codemirror_mode": {
    "name": "ipython",
    "version": 3
   },
   "file_extension": ".py",
   "mimetype": "text/x-python",
   "name": "python",
   "nbconvert_exporter": "python",
   "pygments_lexer": "ipython3",
   "version": "3.10.12"
  },
  "papermill": {
   "default_parameters": {},
   "duration": 3.717702,
   "end_time": "2023-11-07T11:11:17.946469",
   "environment_variables": {},
   "exception": null,
   "input_path": "__notebook__.ipynb",
   "output_path": "__notebook__.ipynb",
   "parameters": {},
   "start_time": "2023-11-07T11:11:14.228767",
   "version": "2.4.0"
  }
 },
 "nbformat": 4,
 "nbformat_minor": 5
}
