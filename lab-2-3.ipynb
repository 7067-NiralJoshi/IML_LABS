{
 "cells": [
  {
   "cell_type": "code",
   "execution_count": 1,
   "id": "2bffbcb1",
   "metadata": {
    "_cell_guid": "b1076dfc-b9ad-4769-8c92-a6c4dae69d19",
    "_uuid": "8f2839f25d086af736a60e9eeb907d3b93b6e0e5",
    "execution": {
     "iopub.execute_input": "2023-11-07T10:11:03.525603Z",
     "iopub.status.busy": "2023-11-07T10:11:03.525055Z",
     "iopub.status.idle": "2023-11-07T10:11:04.256970Z",
     "shell.execute_reply": "2023-11-07T10:11:04.255972Z"
    },
    "papermill": {
     "duration": 0.738619,
     "end_time": "2023-11-07T10:11:04.259412",
     "exception": false,
     "start_time": "2023-11-07T10:11:03.520793",
     "status": "completed"
    },
    "tags": []
   },
   "outputs": [],
   "source": [
    "# This Python 3 environment comes with many helpful analytics libraries installed\n",
    "# It is defined by the kaggle/python Docker image: https://github.com/kaggle/docker-python\n",
    "# For example, here's several helpful packages to load\n",
    "\n",
    "import numpy as np # linear algebra\n",
    "import pandas as pd # data processing, CSV file I/O (e.g. pd.read_csv)\n",
    "\n",
    "# Input data files are available in the read-only \"../input/\" directory\n",
    "# For example, running this (by clicking run or pressing Shift+Enter) will list all files under the input directory\n",
    "\n",
    "import os\n",
    "for dirname, _, filenames in os.walk('/kaggle/input'):\n",
    "    for filename in filenames:\n",
    "        print(os.path.join(dirname, filename))\n",
    "\n",
    "# You can write up to 20GB to the current directory (/kaggle/working/) that gets preserved as output when you create a version using \"Save & Run All\" \n",
    "# You can also write temporary files to /kaggle/temp/, but they won't be saved outside of the current session"
   ]
  },
  {
   "cell_type": "code",
   "execution_count": 2,
   "id": "cfda96a7",
   "metadata": {
    "execution": {
     "iopub.execute_input": "2023-11-07T10:11:04.265475Z",
     "iopub.status.busy": "2023-11-07T10:11:04.264609Z",
     "iopub.status.idle": "2023-11-07T10:11:04.273011Z",
     "shell.execute_reply": "2023-11-07T10:11:04.272005Z"
    },
    "papermill": {
     "duration": 0.014717,
     "end_time": "2023-11-07T10:11:04.276265",
     "exception": false,
     "start_time": "2023-11-07T10:11:04.261548",
     "status": "completed"
    },
    "tags": []
   },
   "outputs": [
    {
     "name": "stdout",
     "output_type": "stream",
     "text": [
      "Numpy array [15 14 13 12 10  9  8  7  6  5  4  3  2]\n",
      "Splitted array: [15 14] [13 12 10  9] [8 7 6 5 4 3 2]\n"
     ]
    }
   ],
   "source": [
    "#lab-2\n",
    "    #Write a NumPy program to implement following operation\n",
    "    # to split an array of 14 elements into 3 arrays, each with 2, 4, and 8 \n",
    "    #elements in the original order\n",
    "#Name:Nirali Joshi\n",
    "#Enrollnment no:216270307067\n",
    "\n",
    "import numpy as np\n",
    "\n",
    "#original array\n",
    "arr=np.array([15,14,13,12,10,9,8,7,6,5,4,3,2])\n",
    "print(\"Numpy array\",arr)\n",
    "\n",
    "#splitted array\n",
    "a1,a2,a3=np.split(arr,[2,6])\n",
    "print(\"Splitted array:\",a1,a2,a3)\n"
   ]
  },
  {
   "cell_type": "code",
   "execution_count": 3,
   "id": "704babe2",
   "metadata": {
    "execution": {
     "iopub.execute_input": "2023-11-07T10:11:04.281900Z",
     "iopub.status.busy": "2023-11-07T10:11:04.281547Z",
     "iopub.status.idle": "2023-11-07T10:11:04.289296Z",
     "shell.execute_reply": "2023-11-07T10:11:04.288144Z"
    },
    "papermill": {
     "duration": 0.013252,
     "end_time": "2023-11-07T10:11:04.291680",
     "exception": false,
     "start_time": "2023-11-07T10:11:04.278428",
     "status": "completed"
    },
    "tags": []
   },
   "outputs": [
    {
     "name": "stdout",
     "output_type": "stream",
     "text": [
      "Original Array  : \n",
      " [[ 0.  1.  2.  3.  4.]\n",
      " [ 5.  6.  7.  8.  9.]\n",
      " [10. 11. 12. 13. 14.]\n",
      " [15. 16. 17. 18. 19.]\n",
      " [20. 21. 22. 23. 24.]]\n",
      "\n",
      "Left: \n",
      " [[ 0.  1.  2.]\n",
      " [ 5.  6.  7.]\n",
      " [10. 11. 12.]\n",
      " [15. 16. 17.]\n",
      " [20. 21. 22.]]\n",
      "\n",
      "Right: \n",
      " [[ 3.  4.]\n",
      " [ 8.  9.]\n",
      " [13. 14.]\n",
      " [18. 19.]\n",
      " [23. 24.]]\n"
     ]
    }
   ],
   "source": [
    "#lab-2\n",
    "    #Write a NumPy program to implement following operation\n",
    "    #to stack arrays horizontally (column wise)\n",
    "#Name:Nirali Joshi\n",
    "#Enrollnment no:216270307067\n",
    "\n",
    "import numpy as np\n",
    "\n",
    "#array using arange\n",
    "arr = np.arange(25, dtype=np.float32).reshape((5,5))\n",
    "print(\"Original Array  : \\n\", arr)\n",
    "\n",
    "# Horizontally spliting array into 2 parts\n",
    "left, right = np.hsplit(arr, [3])\n",
    "print(\"\\nLeft: \\n\", left)\n",
    "print(\"\\nRight: \\n\", right)\n"
   ]
  },
  {
   "cell_type": "code",
   "execution_count": null,
   "id": "d8bfd554",
   "metadata": {
    "papermill": {
     "duration": 0.001866,
     "end_time": "2023-11-07T10:11:04.295982",
     "exception": false,
     "start_time": "2023-11-07T10:11:04.294116",
     "status": "completed"
    },
    "tags": []
   },
   "outputs": [],
   "source": []
  }
 ],
 "metadata": {
  "kernelspec": {
   "display_name": "Python 3",
   "language": "python",
   "name": "python3"
  },
  "language_info": {
   "codemirror_mode": {
    "name": "ipython",
    "version": 3
   },
   "file_extension": ".py",
   "mimetype": "text/x-python",
   "name": "python",
   "nbconvert_exporter": "python",
   "pygments_lexer": "ipython3",
   "version": "3.10.12"
  },
  "papermill": {
   "default_parameters": {},
   "duration": 4.402335,
   "end_time": "2023-11-07T10:11:04.717518",
   "environment_variables": {},
   "exception": null,
   "input_path": "__notebook__.ipynb",
   "output_path": "__notebook__.ipynb",
   "parameters": {},
   "start_time": "2023-11-07T10:11:00.315183",
   "version": "2.4.0"
  }
 },
 "nbformat": 4,
 "nbformat_minor": 5
}
