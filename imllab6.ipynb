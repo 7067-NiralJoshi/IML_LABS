{
 "cells": [
  {
   "cell_type": "code",
   "execution_count": 1,
   "id": "10558192",
   "metadata": {
    "_cell_guid": "b1076dfc-b9ad-4769-8c92-a6c4dae69d19",
    "_uuid": "8f2839f25d086af736a60e9eeb907d3b93b6e0e5",
    "execution": {
     "iopub.execute_input": "2023-11-07T11:15:53.087451Z",
     "iopub.status.busy": "2023-11-07T11:15:53.087033Z",
     "iopub.status.idle": "2023-11-07T11:15:53.427133Z",
     "shell.execute_reply": "2023-11-07T11:15:53.425927Z"
    },
    "papermill": {
     "duration": 0.347313,
     "end_time": "2023-11-07T11:15:53.429354",
     "exception": false,
     "start_time": "2023-11-07T11:15:53.082041",
     "status": "completed"
    },
    "tags": []
   },
   "outputs": [],
   "source": [
    "# This Python 3 environment comes with many helpful analytics libraries installed\n",
    "# It is defined by the kaggle/python Docker image: https://github.com/kaggle/docker-python\n",
    "# For example, here's several helpful packages to load\n",
    "\n",
    "import numpy as np # linear algebra\n",
    "import pandas as pd # data processing, CSV file I/O (e.g. pd.read_csv)\n",
    "\n",
    "# Input data files are available in the read-only \"../input/\" directory\n",
    "# For example, running this (by clicking run or pressing Shift+Enter) will list all files under the input directory\n",
    "\n",
    "import os\n",
    "for dirname, _, filenames in os.walk('/kaggle/input'):\n",
    "    for filename in filenames:\n",
    "        print(os.path.join(dirname, filename))\n",
    "\n",
    "# You can write up to 20GB to the current directory (/kaggle/working/) that gets preserved as output when you create a version using \"Save & Run All\" \n",
    "# You can also write temporary files to /kaggle/temp/, but they won't be saved outside of the current session"
   ]
  },
  {
   "cell_type": "code",
   "execution_count": 2,
   "id": "db5b1db9",
   "metadata": {
    "execution": {
     "iopub.execute_input": "2023-11-07T11:15:53.438313Z",
     "iopub.status.busy": "2023-11-07T11:15:53.437828Z",
     "iopub.status.idle": "2023-11-07T11:15:53.449891Z",
     "shell.execute_reply": "2023-11-07T11:15:53.448734Z"
    },
    "papermill": {
     "duration": 0.018387,
     "end_time": "2023-11-07T11:15:53.452329",
     "exception": false,
     "start_time": "2023-11-07T11:15:53.433942",
     "status": "completed"
    },
    "tags": []
   },
   "outputs": [
    {
     "name": "stdout",
     "output_type": "stream",
     "text": [
      "Numpy array: [ 9  4  5  2  8 10]\n",
      "Pandas Series: 0     9\n",
      "1     4\n",
      "2     5\n",
      "3     2\n",
      "4     8\n",
      "5    10\n",
      "dtype: int64\n"
     ]
    }
   ],
   "source": [
    "'''Write a Pandas program to implement following operation\n",
    "     1.to convert a NumPy array to a Pandas series'''\n",
    "\n",
    "ndarr=np.array([9,4,5,2,8,10])\n",
    "print(\"Numpy array:\",ndarr)\n",
    "\n",
    "s = pd.Series(ndarr)\n",
    "print(\"Pandas Series:\",s)"
   ]
  },
  {
   "cell_type": "code",
   "execution_count": 3,
   "id": "a7e6ab26",
   "metadata": {
    "execution": {
     "iopub.execute_input": "2023-11-07T11:15:53.459312Z",
     "iopub.status.busy": "2023-11-07T11:15:53.458927Z",
     "iopub.status.idle": "2023-11-07T11:15:53.466035Z",
     "shell.execute_reply": "2023-11-07T11:15:53.465122Z"
    },
    "papermill": {
     "duration": 0.012931,
     "end_time": "2023-11-07T11:15:53.468036",
     "exception": false,
     "start_time": "2023-11-07T11:15:53.455105",
     "status": "completed"
    },
    "tags": []
   },
   "outputs": [
    {
     "name": "stdout",
     "output_type": "stream",
     "text": [
      "0         Orange\n",
      "1    Pomegranate\n",
      "2          Berry\n",
      "3      Sugarcane\n",
      "4               \n",
      "dtype: object\n"
     ]
    }
   ],
   "source": [
    "''' Write a Pandas program to implement following operation\n",
    "        2. to convert the first column of a DataFrame as a Series'''\n",
    "\n",
    "data = {'A': ['Orange','Pomegranate','Berry','Sugarcane',''],\n",
    "        'B': ['apple', 'banana', 'Avacado', 'date', 'Mango']}\n",
    "\n",
    "df=pd.DataFrame(data)\n",
    "arr=pd.Series(data['A'])\n",
    "print(arr)\n",
    "\n"
   ]
  },
  {
   "cell_type": "code",
   "execution_count": 4,
   "id": "a9675c61",
   "metadata": {
    "execution": {
     "iopub.execute_input": "2023-11-07T11:15:53.475431Z",
     "iopub.status.busy": "2023-11-07T11:15:53.474870Z",
     "iopub.status.idle": "2023-11-07T11:15:53.483151Z",
     "shell.execute_reply": "2023-11-07T11:15:53.481703Z"
    },
    "papermill": {
     "duration": 0.014287,
     "end_time": "2023-11-07T11:15:53.485129",
     "exception": false,
     "start_time": "2023-11-07T11:15:53.470842",
     "status": "completed"
    },
    "tags": []
   },
   "outputs": [
    {
     "name": "stdout",
     "output_type": "stream",
     "text": [
      "Mean:  35.0\n",
      "Standar Deviation:  15.811388300841896\n"
     ]
    }
   ],
   "source": [
    "'''Write a Pandas program to implement following operation\n",
    " to create the mean and standard deviation of the data of a given \n",
    "Series'''\n",
    "\n",
    "s = pd.Series([15, 25,35, 45, 55])\n",
    "\n",
    "print(\"Mean: \", s.mean())               \n",
    "print(\"Standar Deviation: \", s.std())     # Standard deviation of elements"
   ]
  },
  {
   "cell_type": "code",
   "execution_count": 5,
   "id": "f593698f",
   "metadata": {
    "execution": {
     "iopub.execute_input": "2023-11-07T11:15:53.492780Z",
     "iopub.status.busy": "2023-11-07T11:15:53.492409Z",
     "iopub.status.idle": "2023-11-07T11:15:53.502587Z",
     "shell.execute_reply": "2023-11-07T11:15:53.501289Z"
    },
    "papermill": {
     "duration": 0.016927,
     "end_time": "2023-11-07T11:15:53.505029",
     "exception": false,
     "start_time": "2023-11-07T11:15:53.488102",
     "status": "completed"
    },
    "tags": []
   },
   "outputs": [
    {
     "name": "stdout",
     "output_type": "stream",
     "text": [
      "Original Series: 0    93\n",
      "1    43\n",
      "2    73\n",
      "3    33\n",
      "4    53\n",
      "5    13\n",
      "6    63\n",
      "dtype: int64\n",
      "Sorted Series 5    13\n",
      "3    33\n",
      "1    43\n",
      "4    53\n",
      "6    63\n",
      "2    73\n",
      "0    93\n",
      "dtype: int64\n"
     ]
    }
   ],
   "source": [
    "'''Write a Pandas program to implement following operation\n",
    "     to sort a given Series'''\n",
    "s=pd.Series([93,43,73,33,53,13,63])\n",
    "print(\"Original Series:\",s)\n",
    "data=s.sort_values()\n",
    "print(\"Sorted Series\",data)"
   ]
  },
  {
   "cell_type": "code",
   "execution_count": 6,
   "id": "5b384bca",
   "metadata": {
    "execution": {
     "iopub.execute_input": "2023-11-07T11:15:53.512966Z",
     "iopub.status.busy": "2023-11-07T11:15:53.512593Z",
     "iopub.status.idle": "2023-11-07T11:15:53.527994Z",
     "shell.execute_reply": "2023-11-07T11:15:53.526688Z"
    },
    "papermill": {
     "duration": 0.021946,
     "end_time": "2023-11-07T11:15:53.530268",
     "exception": false,
     "start_time": "2023-11-07T11:15:53.508322",
     "status": "completed"
    },
    "tags": []
   },
   "outputs": [
    {
     "name": "stdout",
     "output_type": "stream",
     "text": [
      "   Numbers   Flowers\n",
      "0        1  Hibiscus\n",
      "1        2     Lotus\n",
      "2        3      Lily\n"
     ]
    }
   ],
   "source": [
    "'''Write a Pandas program to implement following operation\n",
    "     to create a dataframe from a dictionary and display it'''\n",
    "\n",
    "df = pd.DataFrame({'Numbers': [1, 2, 3], 'Flowers': ['Hibiscus', 'Lotus', 'Lily']})\n",
    "print(df)"
   ]
  },
  {
   "cell_type": "code",
   "execution_count": 7,
   "id": "b170240f",
   "metadata": {
    "execution": {
     "iopub.execute_input": "2023-11-07T11:15:53.538997Z",
     "iopub.status.busy": "2023-11-07T11:15:53.538133Z",
     "iopub.status.idle": "2023-11-07T11:15:53.556222Z",
     "shell.execute_reply": "2023-11-07T11:15:53.554384Z"
    },
    "papermill": {
     "duration": 0.02464,
     "end_time": "2023-11-07T11:15:53.558083",
     "exception": false,
     "start_time": "2023-11-07T11:15:53.533443",
     "status": "completed"
    },
    "tags": []
   },
   "outputs": [
    {
     "name": "stdout",
     "output_type": "stream",
     "text": [
      "Sorted :   Product_Name  Price  Quantity_In_Stock\n",
      "4       Eraser    1.2                 75\n",
      "3  Highlighter    0.3                150\n",
      "2     Notebook    2.5                 50\n",
      "1       Pencil    0.5                200\n",
      "0   Scrapebook    1.0                100\n"
     ]
    }
   ],
   "source": [
    "'''Write a Pandas program to implement following operation\n",
    "    to sort the DataFrame first by 'name' in ascending order '''\n",
    "\n",
    "df = pd.DataFrame({\n",
    "    'Product_Name': ['Scrapebook', 'Pencil', 'Notebook', 'Highlighter','Eraser' ],\n",
    "    'Price': [1.0, 0.5, 2.5, 0.3, 1.2],\n",
    "    'Quantity_In_Stock': [100, 200, 50, 150, 75]})\n",
    "df_sort=df.sort_values(by=['Product_Name'])\n",
    "print(\"Sorted :\",df_sort)"
   ]
  },
  {
   "cell_type": "code",
   "execution_count": 8,
   "id": "2bb125d6",
   "metadata": {
    "execution": {
     "iopub.execute_input": "2023-11-07T11:15:53.565722Z",
     "iopub.status.busy": "2023-11-07T11:15:53.565349Z",
     "iopub.status.idle": "2023-11-07T11:15:53.580788Z",
     "shell.execute_reply": "2023-11-07T11:15:53.579470Z"
    },
    "papermill": {
     "duration": 0.021551,
     "end_time": "2023-11-07T11:15:53.582647",
     "exception": false,
     "start_time": "2023-11-07T11:15:53.561096",
     "status": "completed"
    },
    "tags": []
   },
   "outputs": [
    {
     "name": "stdout",
     "output_type": "stream",
     "text": [
      "Original DataFrame:   Product_Name  Price  Quantity_In_Stock     Category\n",
      "0          Pen    1.0                100      Writing\n",
      "1       Pencil    0.5                200      Writing\n",
      "2     Notebook    2.5                 50        Paper\n",
      "3       Eraser    0.3                150       Eraser\n",
      "4  Highlighter    1.2                 75  Highlighter\n",
      "\n",
      "DataFrame after deleting 'Category' column:\n",
      "  Product_Name  Price  Quantity_In_Stock\n",
      "0          Pen    1.0                100\n",
      "1       Pencil    0.5                200\n",
      "2     Notebook    2.5                 50\n",
      "3       Eraser    0.3                150\n",
      "4  Highlighter    1.2                 75\n"
     ]
    }
   ],
   "source": [
    "'''Write a Pandas program to implement following operation\n",
    "    to delete the one specific column from the DataFrame '''\n",
    "df=pd.DataFrame({\n",
    "    'Product_Name': ['Pen', 'Pencil', 'Notebook', 'Eraser', 'Highlighter'],\n",
    "    'Price': [1.0, 0.5, 2.5, 0.3, 1.2],\n",
    "    'Quantity_In_Stock': [100, 200, 50, 150, 75],\n",
    "    'Category': ['Writing', 'Writing', 'Paper', 'Eraser', 'Highlighter']\n",
    "})\n",
    "print(\"Original DataFrame:\",df)\n",
    "\n",
    "# Delete the 'Category' column\n",
    "df_del = df.drop('Category', axis=1)\n",
    "\n",
    "# Display the modified DataFrame\n",
    "print(\"\\nDataFrame after deleting 'Category' column:\")\n",
    "print(df_del)"
   ]
  },
  {
   "cell_type": "code",
   "execution_count": null,
   "id": "ffccb06f",
   "metadata": {
    "papermill": {
     "duration": 0.002853,
     "end_time": "2023-11-07T11:15:53.589047",
     "exception": false,
     "start_time": "2023-11-07T11:15:53.586194",
     "status": "completed"
    },
    "tags": []
   },
   "outputs": [],
   "source": []
  }
 ],
 "metadata": {
  "kernelspec": {
   "display_name": "Python 3",
   "language": "python",
   "name": "python3"
  },
  "language_info": {
   "codemirror_mode": {
    "name": "ipython",
    "version": 3
   },
   "file_extension": ".py",
   "mimetype": "text/x-python",
   "name": "python",
   "nbconvert_exporter": "python",
   "pygments_lexer": "ipython3",
   "version": "3.10.12"
  },
  "papermill": {
   "default_parameters": {},
   "duration": 3.701862,
   "end_time": "2023-11-07T11:15:54.112917",
   "environment_variables": {},
   "exception": null,
   "input_path": "__notebook__.ipynb",
   "output_path": "__notebook__.ipynb",
   "parameters": {},
   "start_time": "2023-11-07T11:15:50.411055",
   "version": "2.4.0"
  }
 },
 "nbformat": 4,
 "nbformat_minor": 5
}
